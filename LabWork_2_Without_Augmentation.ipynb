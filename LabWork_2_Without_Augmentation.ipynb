{
  "nbformat": 4,
  "nbformat_minor": 0,
  "metadata": {
    "colab": {
      "provenance": []
    },
    "kernelspec": {
      "name": "python3",
      "display_name": "Python 3"
    },
    "language_info": {
      "name": "python"
    }
  },
  "cells": [
    {
      "cell_type": "markdown",
      "source": [
        "## **Import the necessary libraries:**"
      ],
      "metadata": {
        "id": "L-UvrjxHpvEk"
      }
    },
    {
      "cell_type": "code",
      "execution_count": 24,
      "metadata": {
        "id": "AZVVJPyGpsu0"
      },
      "outputs": [],
      "source": [
        "from keras.datasets import mnist\n",
        "from keras.utils import to_categorical\n",
        "from keras.models import Sequential\n",
        "from keras.layers import Dense, Flatten"
      ]
    },
    {
      "cell_type": "markdown",
      "source": [
        "## **Load the MNIST Dataset:**"
      ],
      "metadata": {
        "id": "_jam4yycp9u0"
      }
    },
    {
      "cell_type": "code",
      "source": [
        "# Load the MNIST dataset\n",
        "(x_train, y_train), (x_test, y_test) = mnist.load_data()"
      ],
      "metadata": {
        "id": "q0mZxhl4qFOM"
      },
      "execution_count": 25,
      "outputs": []
    },
    {
      "cell_type": "markdown",
      "source": [
        "## **Preprocess the data by normalizing the pixel values to be between 0 and 1:**"
      ],
      "metadata": {
        "id": "2yomD3Gf1rUa"
      }
    },
    {
      "cell_type": "code",
      "source": [
        "# Preprocess the data\n",
        "x_train = x_train.reshape(-1, 28, 28, 1) / 255.0\n",
        "x_test = x_test.reshape(-1, 28, 28, 1) / 255.0\n",
        "y_train = to_categorical(y_train)\n",
        "y_test = to_categorical(y_test)"
      ],
      "metadata": {
        "id": "-XxJtAvFqHzU"
      },
      "execution_count": 26,
      "outputs": []
    },
    {
      "cell_type": "markdown",
      "source": [
        "## **Design Network Layer:**"
      ],
      "metadata": {
        "id": "I4tEzXJxqR2q"
      }
    },
    {
      "cell_type": "code",
      "source": [
        "# Build the model\n",
        "model = Sequential([\n",
        "    Flatten(input_shape=(28, 28, 1)),\n",
        "    Dense(128, activation='relu'),\n",
        "    Dense(64, activation='relu'),\n",
        "    Dense(32, activation='relu'),\n",
        "    Dense(10, activation='softmax')\n",
        "])"
      ],
      "metadata": {
        "id": "lZUz2_GdqVeS"
      },
      "execution_count": 27,
      "outputs": []
    },
    {
      "cell_type": "code",
      "source": [
        "# Compile the model\n",
        "model.compile(optimizer='adam', loss='categorical_crossentropy', metrics=['accuracy'])"
      ],
      "metadata": {
        "id": "NBDjhy2EqaBk"
      },
      "execution_count": 28,
      "outputs": []
    },
    {
      "cell_type": "code",
      "source": [
        "# Train the model\n",
        "model.fit(x_train, y_train, epochs=10, batch_size=32, validation_data=(x_test, y_test))\n"
      ],
      "metadata": {
        "colab": {
          "base_uri": "https://localhost:8080/"
        },
        "id": "yxxZwLUkqalq",
        "outputId": "16f5f169-7eda-4f8d-9b6c-777e5a4e8c4d"
      },
      "execution_count": 29,
      "outputs": [
        {
          "output_type": "stream",
          "name": "stdout",
          "text": [
            "Epoch 1/10\n",
            "1875/1875 [==============================] - 14s 7ms/step - loss: 0.2626 - accuracy: 0.9217 - val_loss: 0.1548 - val_accuracy: 0.9520\n",
            "Epoch 2/10\n",
            "1875/1875 [==============================] - 9s 5ms/step - loss: 0.1109 - accuracy: 0.9667 - val_loss: 0.0956 - val_accuracy: 0.9703\n",
            "Epoch 3/10\n",
            "1875/1875 [==============================] - 9s 5ms/step - loss: 0.0774 - accuracy: 0.9762 - val_loss: 0.0861 - val_accuracy: 0.9731\n",
            "Epoch 4/10\n",
            "1875/1875 [==============================] - 8s 4ms/step - loss: 0.0605 - accuracy: 0.9807 - val_loss: 0.1008 - val_accuracy: 0.9712\n",
            "Epoch 5/10\n",
            "1875/1875 [==============================] - 9s 5ms/step - loss: 0.0482 - accuracy: 0.9845 - val_loss: 0.0861 - val_accuracy: 0.9753\n",
            "Epoch 6/10\n",
            "1875/1875 [==============================] - 9s 5ms/step - loss: 0.0403 - accuracy: 0.9875 - val_loss: 0.0778 - val_accuracy: 0.9763\n",
            "Epoch 7/10\n",
            "1875/1875 [==============================] - 8s 4ms/step - loss: 0.0355 - accuracy: 0.9885 - val_loss: 0.0951 - val_accuracy: 0.9751\n",
            "Epoch 8/10\n",
            "1875/1875 [==============================] - 10s 5ms/step - loss: 0.0291 - accuracy: 0.9901 - val_loss: 0.0962 - val_accuracy: 0.9748\n",
            "Epoch 9/10\n",
            "1875/1875 [==============================] - 9s 5ms/step - loss: 0.0246 - accuracy: 0.9923 - val_loss: 0.1044 - val_accuracy: 0.9753\n",
            "Epoch 10/10\n",
            "1875/1875 [==============================] - 9s 5ms/step - loss: 0.0220 - accuracy: 0.9930 - val_loss: 0.1174 - val_accuracy: 0.9725\n"
          ]
        },
        {
          "output_type": "execute_result",
          "data": {
            "text/plain": [
              "<keras.callbacks.History at 0x7f33b13bae20>"
            ]
          },
          "metadata": {},
          "execution_count": 29
        }
      ]
    },
    {
      "cell_type": "markdown",
      "source": [
        "## **Model Evaluation:**"
      ],
      "metadata": {
        "id": "BOh0zBcYqml6"
      }
    },
    {
      "cell_type": "code",
      "source": [
        "# Evaluate the model on the test set\n",
        "test_loss, test_acc = model.evaluate(x_test, y_test, verbose=0)\n",
        "\n",
        "print(\"Test loss: = {:.2f}%\".format(round(test_loss*100, 2)))\n",
        "print(\"Test accuracy: = {:.2f}%\".format(round(test_acc*100, 2)))"
      ],
      "metadata": {
        "colab": {
          "base_uri": "https://localhost:8080/"
        },
        "id": "-55zuDQCqqFy",
        "outputId": "920ab24d-2ec1-4ee5-f509-e628920a63b2"
      },
      "execution_count": 31,
      "outputs": [
        {
          "output_type": "stream",
          "name": "stdout",
          "text": [
            "Test loss: = 11.74%\n",
            "Test accuracy: = 97.25%\n"
          ]
        }
      ]
    }
  ]
}