{
  "nbformat": 4,
  "nbformat_minor": 0,
  "metadata": {
    "colab": {
      "provenance": []
    },
    "kernelspec": {
      "name": "python3",
      "display_name": "Python 3"
    },
    "language_info": {
      "name": "python"
    }
  },
  "cells": [
    {
      "cell_type": "markdown",
      "source": [
        "## **Import the necessary libraries:**"
      ],
      "metadata": {
        "id": "w9AEqaQEvINX"
      }
    },
    {
      "cell_type": "code",
      "source": [
        "from keras.datasets import mnist\n",
        "from keras.utils import to_categorical\n",
        "from keras.models import Sequential\n",
        "from keras.layers import Dense, Conv2D, MaxPooling2D, Flatten\n",
        "from keras.preprocessing.image import ImageDataGenerator"
      ],
      "metadata": {
        "id": "TY4s9EvkvMTV"
      },
      "execution_count": 11,
      "outputs": []
    },
    {
      "cell_type": "markdown",
      "source": [
        "## **Import the MNIST Dataset:**"
      ],
      "metadata": {
        "id": "S63HB4SKvbs7"
      }
    },
    {
      "cell_type": "code",
      "source": [
        "# Load the MNIST dataset\n",
        "(x_train, y_train), (x_test, y_test) = mnist.load_data()"
      ],
      "metadata": {
        "id": "mNNdjGOOvhcC"
      },
      "execution_count": 12,
      "outputs": []
    },
    {
      "cell_type": "markdown",
      "source": [
        "## **Preprocess the data by normalizing the pixel values to be between 0 and 1:**"
      ],
      "metadata": {
        "id": "_Q45aI012B6O"
      }
    },
    {
      "cell_type": "code",
      "source": [
        "# Preprocess the data\n",
        "x_train = x_train.reshape(-1, 28, 28, 1) / 255.0\n",
        "x_test = x_test.reshape(-1, 28, 28, 1) / 255.0\n",
        "y_train = to_categorical(y_train)\n",
        "y_test = to_categorical(y_test)"
      ],
      "metadata": {
        "id": "tG1u3JOJvlnc"
      },
      "execution_count": 13,
      "outputs": []
    },
    {
      "cell_type": "markdown",
      "source": [
        "## **Image augmentation using ImageDataGenerator:**"
      ],
      "metadata": {
        "id": "aV2H9sw1vwrt"
      }
    },
    {
      "cell_type": "code",
      "source": [
        "# Create an ImageDataGenerator object for image augmentation\n",
        "datagen = ImageDataGenerator(\n",
        "    rotation_range=10,\n",
        "    width_shift_range=0.1,\n",
        "    height_shift_range=0.1,\n",
        "    zoom_range=0.1,\n",
        "    shear_range=0.1,\n",
        "    fill_mode='nearest'\n",
        ")"
      ],
      "metadata": {
        "id": "IgdcWEEFv2Yz"
      },
      "execution_count": 14,
      "outputs": []
    },
    {
      "cell_type": "markdown",
      "source": [
        "## **Design Network Layer:**"
      ],
      "metadata": {
        "id": "lxNYUJL9wk8W"
      }
    },
    {
      "cell_type": "code",
      "source": [
        "# Build the model\n",
        "model = Sequential([\n",
        "    Flatten(input_shape=(28, 28, 1)),\n",
        "    Dense(128, activation='relu'),\n",
        "    Dense(64, activation='relu'),\n",
        "    Dense(32, activation='relu'),\n",
        "    Dense(10, activation='softmax')\n",
        "])"
      ],
      "metadata": {
        "id": "4fDoTOqpwm80"
      },
      "execution_count": 15,
      "outputs": []
    },
    {
      "cell_type": "code",
      "source": [
        "# Compile the model\n",
        "model.compile(optimizer='adam', loss='categorical_crossentropy', metrics=['accuracy'])"
      ],
      "metadata": {
        "id": "GyCuRXQxwyFU"
      },
      "execution_count": 16,
      "outputs": []
    },
    {
      "cell_type": "code",
      "source": [
        "# Train the model with augmented data\n",
        "train_generator = datagen.flow(x_train, y_train, batch_size=32)\n",
        "model.fit(train_generator, epochs=10, validation_data=(x_test, y_test))"
      ],
      "metadata": {
        "colab": {
          "base_uri": "https://localhost:8080/"
        },
        "id": "hLZRrR-Aw0IG",
        "outputId": "9ac6721e-be6d-457b-ea21-3826366c82ff"
      },
      "execution_count": 17,
      "outputs": [
        {
          "output_type": "stream",
          "name": "stdout",
          "text": [
            "Epoch 1/10\n",
            "1875/1875 [==============================] - 23s 12ms/step - loss: 0.4784 - accuracy: 0.8521 - val_loss: 0.1559 - val_accuracy: 0.9515\n",
            "Epoch 2/10\n",
            "1875/1875 [==============================] - 22s 12ms/step - loss: 0.2331 - accuracy: 0.9285 - val_loss: 0.1439 - val_accuracy: 0.9553\n",
            "Epoch 3/10\n",
            "1875/1875 [==============================] - 22s 12ms/step - loss: 0.1938 - accuracy: 0.9414 - val_loss: 0.1050 - val_accuracy: 0.9670\n",
            "Epoch 4/10\n",
            "1875/1875 [==============================] - 22s 12ms/step - loss: 0.1694 - accuracy: 0.9477 - val_loss: 0.0863 - val_accuracy: 0.9732\n",
            "Epoch 5/10\n",
            "1875/1875 [==============================] - 22s 12ms/step - loss: 0.1540 - accuracy: 0.9515 - val_loss: 0.0919 - val_accuracy: 0.9720\n",
            "Epoch 6/10\n",
            "1875/1875 [==============================] - 22s 12ms/step - loss: 0.1440 - accuracy: 0.9573 - val_loss: 0.0824 - val_accuracy: 0.9745\n",
            "Epoch 7/10\n",
            "1875/1875 [==============================] - 22s 12ms/step - loss: 0.1393 - accuracy: 0.9584 - val_loss: 0.0928 - val_accuracy: 0.9695\n",
            "Epoch 8/10\n",
            "1875/1875 [==============================] - 22s 11ms/step - loss: 0.1268 - accuracy: 0.9611 - val_loss: 0.0727 - val_accuracy: 0.9775\n",
            "Epoch 9/10\n",
            "1875/1875 [==============================] - 21s 11ms/step - loss: 0.1224 - accuracy: 0.9616 - val_loss: 0.0668 - val_accuracy: 0.9792\n",
            "Epoch 10/10\n",
            "1875/1875 [==============================] - 22s 12ms/step - loss: 0.1180 - accuracy: 0.9637 - val_loss: 0.0628 - val_accuracy: 0.9805\n"
          ]
        },
        {
          "output_type": "execute_result",
          "data": {
            "text/plain": [
              "<keras.callbacks.History at 0x7fd4f7f66af0>"
            ]
          },
          "metadata": {},
          "execution_count": 17
        }
      ]
    },
    {
      "cell_type": "markdown",
      "source": [
        "## **Model Evaluation:**"
      ],
      "metadata": {
        "id": "izt6LvXQxDtV"
      }
    },
    {
      "cell_type": "code",
      "source": [
        "# Evaluate the model on the test set\n",
        "test_loss, test_acc = model.evaluate(x_test, y_test, verbose=0)\n",
        "\n",
        "print(\"Test loss: = {:.2f}%\".format(round(test_loss*100, 2)))\n",
        "print(\"Test accuracy: = {:.2f}%\".format(round(test_acc*100, 2)))"
      ],
      "metadata": {
        "colab": {
          "base_uri": "https://localhost:8080/"
        },
        "id": "RMy_6kfFxGAd",
        "outputId": "2a48811c-0d3c-4d28-d575-73d9e93f89eb"
      },
      "execution_count": 18,
      "outputs": [
        {
          "output_type": "stream",
          "name": "stdout",
          "text": [
            "Test loss: = 6.28%\n",
            "Test accuracy: = 98.05%\n"
          ]
        }
      ]
    }
  ]
}